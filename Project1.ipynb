{
 "cells": [
  {
   "cell_type": "code",
   "execution_count": 1,
   "id": "1f8790c4",
   "metadata": {},
   "outputs": [],
   "source": [
    "import csv \n",
    "import json"
   ]
  },
  {
   "cell_type": "code",
   "execution_count": 15,
   "id": "99939287",
   "metadata": {},
   "outputs": [],
   "source": [
    "#Takes in file name and output file name\n",
    "#Does not return anything, but creates a new file \n",
    "#CSV file is read with Tab-delimited\n",
    "#Expected file in name  \"orders.csv\"\n",
    "#Expect file out name \"orders-data.tab\"\n",
    "def task1(filein,fileout):\n",
    "  \n",
    "    with open(filein, 'r') as file:\n",
    "        read = csv.reader(file,delimiter='\\t')\n",
    "        \n",
    "        for line in read:\n",
    "            with open(fileout, 'a') as outfile:\n",
    "                outfile.write(\"\\t\".join(line)+\"\\n\")"
   ]
  },
  {
   "cell_type": "code",
   "execution_count": 20,
   "id": "a2639be7",
   "metadata": {},
   "outputs": [],
   "source": [
    "#puts in the file orders-data.tab\n",
    "task1(\"orders.csv\",\"orders-data.tab\")\n"
   ]
  },
  {
   "cell_type": "code",
   "execution_count": 11,
   "id": "6d69d10d",
   "metadata": {},
   "outputs": [],
   "source": [
    "#Takes in a file name and output file name\n",
    "#formats the data in to a JSON file\n",
    "#Expected file in name \"orders.csv\"\n",
    "#Expect Fileout name \"orders-data.JSON\"\n",
    "def task2(filein, fileout):\n",
    "    \n",
    "    jsonData = {}\n",
    "    count = 1\n",
    "    \n",
    "    with open(filein, 'r') as file:\n",
    "        read = csv.DictReader(file)\n",
    "        for line in read:\n",
    "            jsonData[count] = line\n",
    "            count +=1\n",
    "    with open(fileout, 'w') as jfile:\n",
    "        jfile.write(json.dumps(jsonData))"
   ]
  },
  {
   "cell_type": "code",
   "execution_count": null,
   "id": "62b4880f",
   "metadata": {},
   "outputs": [],
   "source": [
    "#contents of orders are now in a JSON file\n",
    "task2(\"orders.csv\",\"orders-data.JSON\")"
   ]
  },
  {
   "cell_type": "code",
   "execution_count": 4,
   "id": "529b1fbe",
   "metadata": {},
   "outputs": [],
   "source": [
    "#Takes in file name\n",
    "#Returns List of Tuples of the orders\n",
    "#Expected file in \"orders.csv\"    \n",
    "#Makes all values in the tuple lowercase\n",
    "def task3(filein):\n",
    "    \n",
    "    finalList = []\n",
    "    with open(filein, \"r\") as file:\n",
    "        skip = True\n",
    "        for x in file:\n",
    "            if skip:\n",
    "                skip = False\n",
    "                continue\n",
    "            string = x.split(\",\")\n",
    "            tempTuple = tuple([(value.lower()).strip() for value in string])\n",
    "            finalList.append(tempTuple)\n",
    "           \n",
    "    return finalList"
   ]
  },
  {
   "cell_type": "code",
   "execution_count": 23,
   "id": "4fd795e1",
   "metadata": {},
   "outputs": [
    {
     "name": "stdout",
     "output_type": "stream",
     "text": [
      "[('3/11/2021', '111-7458798-0100205', 'computer & electronics', 'monitor', 'hp 24mh fhd monitor - computer monitor with 23.8-inch ips display (1080p) - built-in speakers and vesa mounting - height/tilt adjustment for ergonomic viewing - hdmi and displayport - (1d0j9aa#aba)', 'b08bf4czsv', '43211900', 'amazon.com', 'new', 'amazon.com', '$120.71'), ('3/11/2021', '111-7458798-0100205', 'computer & electronics', 'electronic_adapter', '\"displayport to hdmi', 'benfei gold-plated dp display port to hdmi adapter (male to female) compatible for lenovo dell hp and other brand\"', 'b017q8zvwk', '43202222', 'amazon.com', 'new', 'benfeidirect', '$7.12'), ('3/11/2021', '111-7458798-0100205', 'computer & electronics', 'personal_computer', '\"dell optiplex 7010 business desktop computer (intel quad core i5-3470 3.2ghz', '16gb ram', 'new 480gb ssd hdd', 'usb 3.0', 'dvdrw', 'wifi', 'windows 10) (renewed)\"', 'b07syc6hrk', '43211507', 'amazon.com', 'new', 'skytech usa llc', '$263.39'), ('3/11/2021', '111-7458798-0100205', 'computer & electronics', 'consumer_electronics', 'asurion 2 year desktop computer protection plan with tech support $200-249.99', 'b07pbd374s', '43190000', 'amazon.com', 'new', '\"asurion', 'llc\"', '$24.99'), ('3/11/2021', '111-7458798-0100205', 'computer & electronics', 'amazon_tablet', '\"fire hd 10 tablet (10.1\"\" 1080p full hd display', '64 gb) â€“ black (2019 release)\"', 'b07k2hbb1h', '43211509', 'amazon.com', 'new', 'amazon.com', '$208.51'), ('4/16/2021', '111-9546114-3849010', 'computer & electronics', 'camcorder', '\"1080p web camera', 'hd webcam with microphone', 'software control & privacy cover', 'nexigo n60 usb computer camera', '110-degree fov', 'plug and play', 'for zoom/skype/teams', 'conferencing and video calling\"', 'b088tsr6yj', '45121520', 'amazon.com', 'new', 'nexipc', '$43.89'), ('8/26/2021', '111-9892108-4250636', 'bedroom', 'bed_frame', '\"zinus alexia wood platform bed frame / solid wood foundation / no box spring needed / wood slat support / easy assembly', 'rustic pine', 'full\"', 'b06ww7xrgb', '56101515', 'amazon.com', 'new', 'amazon.com', '$151.77'), ('8/26/2021', '111-9892108-4250636', 'bedroom', 'mattress', 'olee sleep 8 inch ventilated convolution memory foam mattress full', 'b010tybicu', '56101508', 'amazon.com', 'new', 'amazon.com', '$174.15'), ('8/26/2021', '111-1142027-3724247', 'computer & electronics', 'chair', 'shuanghu gaming chair office chair ergonomic computer chair with reclining chair with headrest and lumbar support video game chair for adults teens desk chair(footrest) (red)', 'b08t9d4c4c', '56101700', 'amazon.com', 'new', 'patiomage', '$109.74'), ('8/26/2021', '111-9892108-4250636', 'bedroom', 'table', '\"vasagle nightstand', 'end table', 'side table with drawer and shelf', 'bedroom', 'easy assembly', 'steel', 'industrial design', 'rustic brown and black ulet55bx\"', 'b07xxzslcc', '56101501', 'amazon.com', 'new', 'songmics direct', '$74.62'), ('8/26/2021', '111-9892108-4250636', 'bedroom', 'dresser', '\"songmics rustic drawer dresser', 'storage dresser tower with 5 fabric drawers', 'wooden front and top', 'industrial style dresser unit', 'for living room', 'hallway', 'nursery', 'rustic brown and black ulgs45h\"', 'b083j5s346', '56000000', 'amazon.com', 'new', 'songmics direct', '$91.08'), ('8/26/2021', '111-5138353-1161022', 'kitchen', 'pressure_cooker', '\"instant pot duo 7-in-1 electric pressure cooker', 'slow cooker', 'rice cooker', 'steamer', 'saute', 'yogurt maker', 'sterilizer', 'and warmer', '6 quart', '13 one-touch programs\"', 'b00flywnyq', '52151800', 'amazon.com', 'new', 'amazon.com', '$76.77'), ('8/29/2021', '111-8350383-1272211', 'living room', 'sofa', '\"best choice products faux leather upholstered modern convertible folding futon sofa bed for compact living space', 'apartment', 'dorm', 'bonus room w/removable armrests', 'metal legs', '2 cupholders - black\"', 'b01lxdh29y', '56101502', 'amazon.com', 'new', 'bestchoiceproducts', '$274.36'), ('8/29/2021', '111-9627771-4048243', 'computer & electronics', 'shelf', '\"karcog tree bookshelf with drawer', 'small bookshelf for small spaces', 'narrow floor standing book shelves', 'tree shelf bookcase', 'wooden storage organizer shelves', 'rustic brown\"', 'b08qvw18jd', '56101507', 'amazon.com', 'new', 'karcog', '$76.81'), ('8/29/2021', '111-2473676-8019435', 'living room', 'chair', '\"monarch specialties 2 piece dining chair-2pcs/ 39\"\" h/grey leather-look/chrome', '17.25\"\" l x 20.25\"\" d x 38.75\"\" h\"', 'b071npz2nr', '56101504', 'amazon.com', 'new', 'ojcommerce', '$190.90'), ('8/29/2021', '111-4084768-3622653', 'computer & electronics', 'desk', '\"need computer desk office desk 55 inches folding table computer table workstation no install needed', 'rustic brown ac5fb-140\"', 'b09133ptby', '56101700', 'amazon.com', 'new', 'ksbd-home', '$148.16'), ('8/29/2021', '111-5795996-9646656', 'living room', 'table', '\"homcom 25\"\" classic round adjustable faux leather chrome standing bistro table\"', 'b0092kx7ay', '56101500', 'amazon.com', 'new', 'aosom direct', '$98.76'), ('9/1/2021', '111-0068357-7114652', 'kitchen', 'countertop_griddle_appliance', '\"shikha 22\\'\\' electric countertop griddle', '110v 3000w non-stick commercial restaurant teppanyaki grill stainless steel adjustable temperature control 122â°f-572â°f\"', 'b07z1z4rcp', '52140000', 'amazon.com', 'new', 'ffmt', '$136.41'), ('9/1/2021', '111-1431644-2276221', 'bathroom', 'hanging_rod', '\"prettyhome adjustable curved shower curtain rod rustproof expandable aluminum metal shower rod 38-72 inches telescoping design exquisite customizable for bathroom', 'white\"', 'b087cj34dk', '52131700', 'amazon.com', 'new', 'chaining', '$47.18'), ('8/26/2021', '111-9892108-4250636', 'bedroom', 'rug', '\"unique loom trellis frieze collection lattice moroccan geometric modern oval rug', '5 x 8 feet', 'yellow/ivory\"', 'b08f5jhrdz', '52101500', 'amazon.com', 'new', 'amazon.com', '$76.81'), ('9/1/2021', '111-7006509-1485808', 'living room', 'ottoman', '\"round storage ottoman swivel foot stool', 'leather tufted pouf foot rest ottoman with storage', 'vanity stool with removable lid', 'side coffee table storage footstool chair for living room', 'bedroom', 'brown\"', 'b0948m84h1', '56101500', 'amazon.com', 'new', 'lue bona', '$87.47'), ('9/1/2021', '111-5025603-7732200', 'living room', 'ottoman', '\"moderner faux leather pouf unstuffed ottoman moroccan footstool', 'floor footrest cushion', 'storage solution - natural brown color (brown', '23x11)\"', 'b0815r4kvt', '56101500', 'amazon.com', 'new', 'moderner', '$48.78'), ('9/6/2021', '111-5062000-3798608', 'living room', 'rug', '\"unique loom trellis frieze collection lattice moroccan geometric modern area rug', \"5' x 8'\", 'dark gray\"', 'b0761vym93', '52100000', 'amazon.com', 'new', 'amazon.com', '$49.89'), ('9/7/2021', '111-4857766-3641816', 'kitchen', 'dishware_place_setting', '\"gibson elite soho lounge reactive glaze stoneware dinnerware set', 'service for 4 (16pc)', 'eclipse\"', 'b0985446cd', '52152000', 'amazon.com', 'new', 'amazon.com', '$62.62'), ('9/7/2021', '111-7585492-9370623', 'computer & electronics', 'cord_management_cover', '\"yecaye 2 pack under desk cable management tray', '31.5in desk cord organizer for wire management tray', 'perfect for standing desk cable tray', 'no screw no drill black channel raceway for office', 'home\"', 'b08j4173vd', '52160000', 'amazon.com', 'new', '\"yecaye products', 'llc\"', '$27.43'), ('9/7/2021', '111-1082555-2647400', 'kitchen', 'flatware', '\"david shaw grand 20pc flatware set', '9', 'silver\"', 'b0074v84re', '52150000', 'amazon.com', 'new', 'amazon.com', '$26.57'), ('9/10/2021', '111-0020587-4537023', 'kitchen', 'outdoor_living', '\"hasteel griddle accessories', '6-piece metal spatula set stainless steel with riveted handle for bbq flat top grill', 'pancake flipper/griddle scraper/hamburger turner - dishwasher safe\"', 'b07v7skfq5', '56101600', 'amazon.com', 'new', 'hasteel', '$17.55'), ('9/10/2021', '111-4301283-4492249', 'living room', 'rug_pad', '\"rug tape', '10 pcs double sided anti curling non slip reusable rug pad', 'washable rug tape for hardwood floors', 'tile floors', 'carpets', 'floor mats', 'wall (black)\"', 'b083hvbf27', '52101500', 'amazon.com', 'new', 'sahhika us', '$11.79'), ('9/10/2021', '111-7910861-5588210', 'computer & electronics', 'power_strip', '\"kmc 6-outlet surge protector power strip 2-pack', '900 joules', '4-foot extension cord', 'overload protection', 'black\"', 'b0781skprz', '26121629', 'amazon.com', 'new', 'kt-kmc', '$21.94'), ('9/11/2021', '111-4438079-4518620', 'bedroom', 'lamp', '\"set of 2 touch control table lamps with 2 usb charging ports&ac outlet', '3-way dimmable bedside nightstand lamps with white fabric lampshade for reading', 'bedroom', 'living room', 'a19 led bulbs included\"', 'b08gcg3n7t', '39111500', 'amazon.com', 'new', 'brightever us', '$65.84'), ('9/11/2021', '111-0572338-3266665', 'outside', 'table', '\"colibyou 6\\' folding table portable plastic indoor outdoor picnic party dining camp tables (white) (1', 'white) (1', 'white) (6 inches)\"', 'b077m8cfdv', '56101600', 'amazon.com', 'new', 'belinix', '$66.46'), ('9/13/2021', '111-6925100-6470661', 'bedroom', 'ottoman', '\"youdenova 30 inches folding storage ottoman', '80l storage bench for bedroom and hallway', 'faux leather black footrest with foam padded seat', 'support 350lbs\"', 'b07wydkmm9', '56101500', 'amazon.com', 'new', 'youdenova', '$43.89'), ('9/13/2021', '111-0944601-5663404', 'bedroom', 'bed_linen_set', '\"cozylux satin sheets full size 4-pieces silky sheets microfiber light grey bed sheet set with 1 deep pocket fitted sheet', '1 flat sheet and 2 pillowcases', 'smooth and soft\"', 'b08cr3l46z', '52121500', 'amazon.com', 'new', 'cozylux', '$27.43'), ('9/13/2021', '111-7176649-2113826', 'bedroom', 'blanket', '\"hig 3pc down alternative comforter set - all season reversible comforter with two shams - quilted duvet insert with corner tabs - box stitched - breathable', 'soft (full/queen', 'dark gray/lightgray)\"', 'b072z93cyl', '52121500', 'amazon.com', 'new', 'bednlinens', '$43.89'), ('9/13/2021', '111-9434483-4413056', 'outside', 'tent', 'coleman sundome tent', 'b019n9w7wc', '53100000', 'amazon.com', 'new', 'amazon.com', '$96.79'), ('9/13/2021', '111-9542604-9293816', 'kitchen', 'vacuum_cleaner', '\"eureka cordless vacuum cleaner', 'hight efficiency for all carpet and hardwood floor led headlights', 'convenient stick and handheld vac', 'basic red\"', 'b08ynmq1mc', '25172907', 'amazon.com', 'new', 'amazon.com', '$142.66'), ('9/13/2021', '111-1892372-0808268', 'bedroom', 'mattress_cover', 'sure2sleep gel swirl memory foam mattress topper made in usa 2-inch (full)', 'b07wf995sw', '52121500', 'amazon.com', 'new', 'sure2sleep', '$65.84'), ('9/13/2021', '111-6977020-8966619', 'living room', 'table', '\"vasagle industrial nesting coffee table', 'set of 3 end tables for living room', 'stacking side tables', 'easy assembly', 'wood look accent furniture with metal frame', 'rustic brown and black ulnt13x\"', 'b07cmvc92q', '56100000', 'amazon.com', 'new', 'songmics direct', '$76.81'), ('9/14/2021', '111-5972172-5213022', 'outside', 'bench', '\"vingli 6 feet plastic folding bench', 'portable in/outdoor picnic party camping dining seat', 'off-white garden soccer multipurpose entertaining activities\"', 'b07ws549gx', '56101500', 'amazon.com', 'new', 'vingli-direct', '$70.73'), ('9/13/2021', '222-7972172-5213022', 'bathroom', 'bathroom storage', '\"tall bathroom storage cabinet', 'bathroom furniture over the toilet\"', '', '', 'walmart .com', 'new', 'walmart', '$106.99'), ('9/7/2021', '222-7972172-5213022', 'bathroom', 'medicine cabenet', '\"16w x 20\"\"h surface mount espresso wood medicine cabinet\"', '', '', 'walmart .com', 'new', 'walmart', '$56.69'), ('9/6/2021', '222-7972172-5213022', 'kitchen', 'coffee maker', '\"keurig k-cafe single serve k-cup coffee maker', 'latte maker and cappuccino maker', 'dark charcoal\"', '', '', 'walmart .com', 'new', 'walmart', '$169.24'), ('9/6/2021', '222-7972172-5213022', 'kitchen', 'airfryer', '\"ninja 4-quart air fryer', 'af100 $89.00\"', '', '', 'walmart .com', 'new', 'walmart', '$89.00'), ('9/3/2021', '222-7972172-5213022', 'kitchen', 'microware', 'hamilton beach 1.1 cu. ft. 1000w stainless steel microwave', '', '', 'walmart .com', 'new', 'walmart', '$74.84')]\n"
     ]
    }
   ],
   "source": [
    "#puts them in to a list of tuples \n",
    "print(task3(\"orders.csv\"))"
   ]
  },
  {
   "cell_type": "code",
   "execution_count": 5,
   "id": "70dcaa6c",
   "metadata": {},
   "outputs": [],
   "source": [
    "#Takes a file name in\n",
    "#Returns a List of Dictionaries\n",
    "#Expected file in \"orders.csv\"\n",
    "#makes all values for the keys lower case\n",
    "def task4(filein):\n",
    "    \n",
    "    finalList = []\n",
    "    titles = []\n",
    "    with open(filein, 'r') as file:\n",
    "        skip = True\n",
    "        tempDict = {}\n",
    "        read = csv.reader(file,delimiter=',')\n",
    "        \n",
    "        for x in read:\n",
    "            tempDict = {}\n",
    "            if skip:\n",
    "                skip = False\n",
    "                titles = x\n",
    "                continue\n",
    "            \n",
    "            for title in range(len(titles)):\n",
    "                tempDict[titles[title]] = (x[title].lower()).strip()\n",
    "                \n",
    "        \n",
    "            finalList.append(tempDict)\n",
    "\n",
    "    return finalList"
   ]
  },
  {
   "cell_type": "code",
   "execution_count": 22,
   "id": "4da1ed1b",
   "metadata": {},
   "outputs": [
    {
     "name": "stdout",
     "output_type": "stream",
     "text": [
      "[{'Order Date': '3/11/2021', 'Order ID': '111-7458798-0100205', 'Group': 'computer & electronics', 'Item Category': 'monitor', 'Description': 'hp 24mh fhd monitor - computer monitor with 23.8-inch ips display (1080p) - built-in speakers and vesa mounting - height/tilt adjustment for ergonomic viewing - hdmi and displayport - (1d0j9aa#aba)', 'ASIN/ISBN': 'b08bf4czsv', 'UNSPSC Code': '43211900', 'Website': 'amazon.com', 'Condition': 'new', 'Seller': 'amazon.com', 'Item Total': '$120.71'}, {'Order Date': '3/11/2021', 'Order ID': '111-7458798-0100205', 'Group': 'computer & electronics', 'Item Category': 'electronic_adapter', 'Description': 'displayport to hdmi, benfei gold-plated dp display port to hdmi adapter (male to female) compatible for lenovo dell hp and other brand', 'ASIN/ISBN': 'b017q8zvwk', 'UNSPSC Code': '43202222', 'Website': 'amazon.com', 'Condition': 'new', 'Seller': 'benfeidirect', 'Item Total': '$7.12'}, {'Order Date': '3/11/2021', 'Order ID': '111-7458798-0100205', 'Group': 'computer & electronics', 'Item Category': 'personal_computer', 'Description': 'dell optiplex 7010 business desktop computer (intel quad core i5-3470 3.2ghz, 16gb ram, new 480gb ssd hdd, usb 3.0, dvdrw, wifi, windows 10) (renewed)', 'ASIN/ISBN': 'b07syc6hrk', 'UNSPSC Code': '43211507', 'Website': 'amazon.com', 'Condition': 'new', 'Seller': 'skytech usa llc', 'Item Total': '$263.39'}, {'Order Date': '3/11/2021', 'Order ID': '111-7458798-0100205', 'Group': 'computer & electronics', 'Item Category': 'consumer_electronics', 'Description': 'asurion 2 year desktop computer protection plan with tech support $200-249.99', 'ASIN/ISBN': 'b07pbd374s', 'UNSPSC Code': '43190000', 'Website': 'amazon.com', 'Condition': 'new', 'Seller': 'asurion, llc', 'Item Total': '$24.99'}, {'Order Date': '3/11/2021', 'Order ID': '111-7458798-0100205', 'Group': 'computer & electronics', 'Item Category': 'amazon_tablet', 'Description': 'fire hd 10 tablet (10.1\" 1080p full hd display, 64 gb) â€“ black (2019 release)', 'ASIN/ISBN': 'b07k2hbb1h', 'UNSPSC Code': '43211509', 'Website': 'amazon.com', 'Condition': 'new', 'Seller': 'amazon.com', 'Item Total': '$208.51'}, {'Order Date': '4/16/2021', 'Order ID': '111-9546114-3849010', 'Group': 'computer & electronics', 'Item Category': 'camcorder', 'Description': '1080p web camera, hd webcam with microphone, software control & privacy cover, nexigo n60 usb computer camera, 110-degree fov, plug and play, for zoom/skype/teams, conferencing and video calling', 'ASIN/ISBN': 'b088tsr6yj', 'UNSPSC Code': '45121520', 'Website': 'amazon.com', 'Condition': 'new', 'Seller': 'nexipc', 'Item Total': '$43.89'}, {'Order Date': '8/26/2021', 'Order ID': '111-9892108-4250636', 'Group': 'bedroom', 'Item Category': 'bed_frame', 'Description': 'zinus alexia wood platform bed frame / solid wood foundation / no box spring needed / wood slat support / easy assembly, rustic pine, full', 'ASIN/ISBN': 'b06ww7xrgb', 'UNSPSC Code': '56101515', 'Website': 'amazon.com', 'Condition': 'new', 'Seller': 'amazon.com', 'Item Total': '$151.77'}, {'Order Date': '8/26/2021', 'Order ID': '111-9892108-4250636', 'Group': 'bedroom', 'Item Category': 'mattress', 'Description': 'olee sleep 8 inch ventilated convolution memory foam mattress full', 'ASIN/ISBN': 'b010tybicu', 'UNSPSC Code': '56101508', 'Website': 'amazon.com', 'Condition': 'new', 'Seller': 'amazon.com', 'Item Total': '$174.15'}, {'Order Date': '8/26/2021', 'Order ID': '111-1142027-3724247', 'Group': 'computer & electronics', 'Item Category': 'chair', 'Description': 'shuanghu gaming chair office chair ergonomic computer chair with reclining chair with headrest and lumbar support video game chair for adults teens desk chair(footrest) (red)', 'ASIN/ISBN': 'b08t9d4c4c', 'UNSPSC Code': '56101700', 'Website': 'amazon.com', 'Condition': 'new', 'Seller': 'patiomage', 'Item Total': '$109.74'}, {'Order Date': '8/26/2021', 'Order ID': '111-9892108-4250636', 'Group': 'bedroom', 'Item Category': 'table', 'Description': 'vasagle nightstand, end table, side table with drawer and shelf, bedroom, easy assembly, steel, industrial design, rustic brown and black ulet55bx', 'ASIN/ISBN': 'b07xxzslcc', 'UNSPSC Code': '56101501', 'Website': 'amazon.com', 'Condition': 'new', 'Seller': 'songmics direct', 'Item Total': '$74.62'}, {'Order Date': '8/26/2021', 'Order ID': '111-9892108-4250636', 'Group': 'bedroom', 'Item Category': 'dresser', 'Description': 'songmics rustic drawer dresser, storage dresser tower with 5 fabric drawers, wooden front and top, industrial style dresser unit, for living room, hallway, nursery, rustic brown and black ulgs45h', 'ASIN/ISBN': 'b083j5s346', 'UNSPSC Code': '56000000', 'Website': 'amazon.com', 'Condition': 'new', 'Seller': 'songmics direct', 'Item Total': '$91.08'}, {'Order Date': '8/26/2021', 'Order ID': '111-5138353-1161022', 'Group': 'kitchen', 'Item Category': 'pressure_cooker', 'Description': 'instant pot duo 7-in-1 electric pressure cooker, slow cooker, rice cooker, steamer, saute, yogurt maker, sterilizer, and warmer, 6 quart, 13 one-touch programs', 'ASIN/ISBN': 'b00flywnyq', 'UNSPSC Code': '52151800', 'Website': 'amazon.com', 'Condition': 'new', 'Seller': 'amazon.com', 'Item Total': '$76.77'}, {'Order Date': '8/29/2021', 'Order ID': '111-8350383-1272211', 'Group': 'living room', 'Item Category': 'sofa', 'Description': 'best choice products faux leather upholstered modern convertible folding futon sofa bed for compact living space, apartment, dorm, bonus room w/removable armrests, metal legs, 2 cupholders - black', 'ASIN/ISBN': 'b01lxdh29y', 'UNSPSC Code': '56101502', 'Website': 'amazon.com', 'Condition': 'new', 'Seller': 'bestchoiceproducts', 'Item Total': '$274.36'}, {'Order Date': '8/29/2021', 'Order ID': '111-9627771-4048243', 'Group': 'computer & electronics', 'Item Category': 'shelf', 'Description': 'karcog tree bookshelf with drawer, small bookshelf for small spaces, narrow floor standing book shelves, tree shelf bookcase, wooden storage organizer shelves, rustic brown', 'ASIN/ISBN': 'b08qvw18jd', 'UNSPSC Code': '56101507', 'Website': 'amazon.com', 'Condition': 'new', 'Seller': 'karcog', 'Item Total': '$76.81'}, {'Order Date': '8/29/2021', 'Order ID': '111-2473676-8019435', 'Group': 'living room', 'Item Category': 'chair', 'Description': 'monarch specialties 2 piece dining chair-2pcs/ 39\" h/grey leather-look/chrome, 17.25\" l x 20.25\" d x 38.75\" h', 'ASIN/ISBN': 'b071npz2nr', 'UNSPSC Code': '56101504', 'Website': 'amazon.com', 'Condition': 'new', 'Seller': 'ojcommerce', 'Item Total': '$190.90'}, {'Order Date': '8/29/2021', 'Order ID': '111-4084768-3622653', 'Group': 'computer & electronics', 'Item Category': 'desk', 'Description': 'need computer desk office desk 55 inches folding table computer table workstation no install needed, rustic brown ac5fb-140', 'ASIN/ISBN': 'b09133ptby', 'UNSPSC Code': '56101700', 'Website': 'amazon.com', 'Condition': 'new', 'Seller': 'ksbd-home', 'Item Total': '$148.16'}, {'Order Date': '8/29/2021', 'Order ID': '111-5795996-9646656', 'Group': 'living room', 'Item Category': 'table', 'Description': 'homcom 25\" classic round adjustable faux leather chrome standing bistro table', 'ASIN/ISBN': 'b0092kx7ay', 'UNSPSC Code': '56101500', 'Website': 'amazon.com', 'Condition': 'new', 'Seller': 'aosom direct', 'Item Total': '$98.76'}, {'Order Date': '9/1/2021', 'Order ID': '111-0068357-7114652', 'Group': 'kitchen', 'Item Category': 'countertop_griddle_appliance', 'Description': \"shikha 22'' electric countertop griddle,110v 3000w non-stick commercial restaurant teppanyaki grill stainless steel adjustable temperature control 122â°f-572â°f\", 'ASIN/ISBN': 'b07z1z4rcp', 'UNSPSC Code': '52140000', 'Website': 'amazon.com', 'Condition': 'new', 'Seller': 'ffmt', 'Item Total': '$136.41'}, {'Order Date': '9/1/2021', 'Order ID': '111-1431644-2276221', 'Group': 'bathroom', 'Item Category': 'hanging_rod', 'Description': 'prettyhome adjustable curved shower curtain rod rustproof expandable aluminum metal shower rod 38-72 inches telescoping design exquisite customizable for bathroom,white', 'ASIN/ISBN': 'b087cj34dk', 'UNSPSC Code': '52131700', 'Website': 'amazon.com', 'Condition': 'new', 'Seller': 'chaining', 'Item Total': '$47.18'}, {'Order Date': '8/26/2021', 'Order ID': '111-9892108-4250636', 'Group': 'bedroom', 'Item Category': 'rug', 'Description': 'unique loom trellis frieze collection lattice moroccan geometric modern oval rug, 5 x 8 feet, yellow/ivory', 'ASIN/ISBN': 'b08f5jhrdz', 'UNSPSC Code': '52101500', 'Website': 'amazon.com', 'Condition': 'new', 'Seller': 'amazon.com', 'Item Total': '$76.81'}, {'Order Date': '9/1/2021', 'Order ID': '111-7006509-1485808', 'Group': 'living room', 'Item Category': 'ottoman', 'Description': 'round storage ottoman swivel foot stool, leather tufted pouf foot rest ottoman with storage, vanity stool with removable lid, side coffee table storage footstool chair for living room, bedroom, brown', 'ASIN/ISBN': 'b0948m84h1', 'UNSPSC Code': '56101500', 'Website': 'amazon.com', 'Condition': 'new', 'Seller': 'lue bona', 'Item Total': '$87.47'}, {'Order Date': '9/1/2021', 'Order ID': '111-5025603-7732200', 'Group': 'living room', 'Item Category': 'ottoman', 'Description': 'moderner faux leather pouf unstuffed ottoman moroccan footstool, floor footrest cushion, storage solution - natural brown color (brown, 23x11)', 'ASIN/ISBN': 'b0815r4kvt', 'UNSPSC Code': '56101500', 'Website': 'amazon.com', 'Condition': 'new', 'Seller': 'moderner', 'Item Total': '$48.78'}, {'Order Date': '9/6/2021', 'Order ID': '111-5062000-3798608', 'Group': 'living room', 'Item Category': 'rug', 'Description': \"unique loom trellis frieze collection lattice moroccan geometric modern area rug, 5' x 8', dark gray\", 'ASIN/ISBN': 'b0761vym93', 'UNSPSC Code': '52100000', 'Website': 'amazon.com', 'Condition': 'new', 'Seller': 'amazon.com', 'Item Total': '$49.89'}, {'Order Date': '9/7/2021', 'Order ID': '111-4857766-3641816', 'Group': 'kitchen', 'Item Category': 'dishware_place_setting', 'Description': 'gibson elite soho lounge reactive glaze stoneware dinnerware set, service for 4 (16pc), eclipse', 'ASIN/ISBN': 'b0985446cd', 'UNSPSC Code': '52152000', 'Website': 'amazon.com', 'Condition': 'new', 'Seller': 'amazon.com', 'Item Total': '$62.62'}, {'Order Date': '9/7/2021', 'Order ID': '111-7585492-9370623', 'Group': 'computer & electronics', 'Item Category': 'cord_management_cover', 'Description': 'yecaye 2 pack under desk cable management tray, 31.5in desk cord organizer for wire management tray, perfect for standing desk cable tray, no screw no drill black channel raceway for office, home', 'ASIN/ISBN': 'b08j4173vd', 'UNSPSC Code': '52160000', 'Website': 'amazon.com', 'Condition': 'new', 'Seller': 'yecaye products, llc', 'Item Total': '$27.43'}, {'Order Date': '9/7/2021', 'Order ID': '111-1082555-2647400', 'Group': 'kitchen', 'Item Category': 'flatware', 'Description': 'david shaw grand 20pc flatware set, 9, silver', 'ASIN/ISBN': 'b0074v84re', 'UNSPSC Code': '52150000', 'Website': 'amazon.com', 'Condition': 'new', 'Seller': 'amazon.com', 'Item Total': '$26.57'}, {'Order Date': '9/10/2021', 'Order ID': '111-0020587-4537023', 'Group': 'kitchen', 'Item Category': 'outdoor_living', 'Description': 'hasteel griddle accessories, 6-piece metal spatula set stainless steel with riveted handle for bbq flat top grill, pancake flipper/griddle scraper/hamburger turner - dishwasher safe', 'ASIN/ISBN': 'b07v7skfq5', 'UNSPSC Code': '56101600', 'Website': 'amazon.com', 'Condition': 'new', 'Seller': 'hasteel', 'Item Total': '$17.55'}, {'Order Date': '9/10/2021', 'Order ID': '111-4301283-4492249', 'Group': 'living room', 'Item Category': 'rug_pad', 'Description': 'rug tape , 10 pcs double sided anti curling non slip reusable rug pad, washable rug tape for hardwood floors, tile floors, carpets, floor mats, wall (black)', 'ASIN/ISBN': 'b083hvbf27', 'UNSPSC Code': '52101500', 'Website': 'amazon.com', 'Condition': 'new', 'Seller': 'sahhika us', 'Item Total': '$11.79'}, {'Order Date': '9/10/2021', 'Order ID': '111-7910861-5588210', 'Group': 'computer & electronics', 'Item Category': 'power_strip', 'Description': 'kmc 6-outlet surge protector power strip 2-pack, 900 joules, 4-foot extension cord, overload protection, black', 'ASIN/ISBN': 'b0781skprz', 'UNSPSC Code': '26121629', 'Website': 'amazon.com', 'Condition': 'new', 'Seller': 'kt-kmc', 'Item Total': '$21.94'}, {'Order Date': '9/11/2021', 'Order ID': '111-4438079-4518620', 'Group': 'bedroom', 'Item Category': 'lamp', 'Description': 'set of 2 touch control table lamps with 2 usb charging ports&ac outlet, 3-way dimmable bedside nightstand lamps with white fabric lampshade for reading, bedroom, living room, a19 led bulbs included', 'ASIN/ISBN': 'b08gcg3n7t', 'UNSPSC Code': '39111500', 'Website': 'amazon.com', 'Condition': 'new', 'Seller': 'brightever us', 'Item Total': '$65.84'}, {'Order Date': '9/11/2021', 'Order ID': '111-0572338-3266665', 'Group': 'outside', 'Item Category': 'table', 'Description': \"colibyou 6' folding table portable plastic indoor outdoor picnic party dining camp tables (white) (1, white) (1, white) (6 inches)\", 'ASIN/ISBN': 'b077m8cfdv', 'UNSPSC Code': '56101600', 'Website': 'amazon.com', 'Condition': 'new', 'Seller': 'belinix', 'Item Total': '$66.46'}, {'Order Date': '9/13/2021', 'Order ID': '111-6925100-6470661', 'Group': 'bedroom', 'Item Category': 'ottoman', 'Description': 'youdenova 30 inches folding storage ottoman, 80l storage bench for bedroom and hallway, faux leather black footrest with foam padded seat, support 350lbs', 'ASIN/ISBN': 'b07wydkmm9', 'UNSPSC Code': '56101500', 'Website': 'amazon.com', 'Condition': 'new', 'Seller': 'youdenova', 'Item Total': '$43.89'}, {'Order Date': '9/13/2021', 'Order ID': '111-0944601-5663404', 'Group': 'bedroom', 'Item Category': 'bed_linen_set', 'Description': 'cozylux satin sheets full size 4-pieces silky sheets microfiber light grey bed sheet set with 1 deep pocket fitted sheet, 1 flat sheet and 2 pillowcases, smooth and soft', 'ASIN/ISBN': 'b08cr3l46z', 'UNSPSC Code': '52121500', 'Website': 'amazon.com', 'Condition': 'new', 'Seller': 'cozylux', 'Item Total': '$27.43'}, {'Order Date': '9/13/2021', 'Order ID': '111-7176649-2113826', 'Group': 'bedroom', 'Item Category': 'blanket', 'Description': 'hig 3pc down alternative comforter set - all season reversible comforter with two shams - quilted duvet insert with corner tabs - box stitched - breathable, soft (full/queen, dark gray/lightgray)', 'ASIN/ISBN': 'b072z93cyl', 'UNSPSC Code': '52121500', 'Website': 'amazon.com', 'Condition': 'new', 'Seller': 'bednlinens', 'Item Total': '$43.89'}, {'Order Date': '9/13/2021', 'Order ID': '111-9434483-4413056', 'Group': 'outside', 'Item Category': 'tent', 'Description': 'coleman sundome tent', 'ASIN/ISBN': 'b019n9w7wc', 'UNSPSC Code': '53100000', 'Website': 'amazon.com', 'Condition': 'new', 'Seller': 'amazon.com', 'Item Total': '$96.79'}, {'Order Date': '9/13/2021', 'Order ID': '111-9542604-9293816', 'Group': 'kitchen', 'Item Category': 'vacuum_cleaner', 'Description': 'eureka cordless vacuum cleaner, hight efficiency for all carpet and hardwood floor led headlights, convenient stick and handheld vac, basic red', 'ASIN/ISBN': 'b08ynmq1mc', 'UNSPSC Code': '25172907', 'Website': 'amazon.com', 'Condition': 'new', 'Seller': 'amazon.com', 'Item Total': '$142.66'}, {'Order Date': '9/13/2021', 'Order ID': '111-1892372-0808268', 'Group': 'bedroom', 'Item Category': 'mattress_cover', 'Description': 'sure2sleep gel swirl memory foam mattress topper made in usa 2-inch (full)', 'ASIN/ISBN': 'b07wf995sw', 'UNSPSC Code': '52121500', 'Website': 'amazon.com', 'Condition': 'new', 'Seller': 'sure2sleep', 'Item Total': '$65.84'}, {'Order Date': '9/13/2021', 'Order ID': '111-6977020-8966619', 'Group': 'living room', 'Item Category': 'table', 'Description': 'vasagle industrial nesting coffee table, set of 3 end tables for living room, stacking side tables, easy assembly, wood look accent furniture with metal frame, rustic brown and black ulnt13x', 'ASIN/ISBN': 'b07cmvc92q', 'UNSPSC Code': '56100000', 'Website': 'amazon.com', 'Condition': 'new', 'Seller': 'songmics direct', 'Item Total': '$76.81'}, {'Order Date': '9/14/2021', 'Order ID': '111-5972172-5213022', 'Group': 'outside', 'Item Category': 'bench', 'Description': 'vingli 6 feet plastic folding bench,portable in/outdoor picnic party camping dining seat,off-white garden soccer multipurpose entertaining activities', 'ASIN/ISBN': 'b07ws549gx', 'UNSPSC Code': '56101500', 'Website': 'amazon.com', 'Condition': 'new', 'Seller': 'vingli-direct', 'Item Total': '$70.73'}, {'Order Date': '9/13/2021', 'Order ID': '222-7972172-5213022', 'Group': 'bathroom', 'Item Category': 'bathroom storage', 'Description': 'tall bathroom storage cabinet, bathroom furniture over the toilet', 'ASIN/ISBN': '', 'UNSPSC Code': '', 'Website': 'walmart .com', 'Condition': 'new', 'Seller': 'walmart', 'Item Total': '$106.99'}, {'Order Date': '9/7/2021', 'Order ID': '222-7972172-5213022', 'Group': 'bathroom', 'Item Category': 'medicine cabenet', 'Description': '16w x 20\"h surface mount espresso wood medicine cabinet', 'ASIN/ISBN': '', 'UNSPSC Code': '', 'Website': 'walmart .com', 'Condition': 'new', 'Seller': 'walmart', 'Item Total': '$56.69'}, {'Order Date': '9/6/2021', 'Order ID': '222-7972172-5213022', 'Group': 'kitchen', 'Item Category': 'coffee maker', 'Description': 'keurig k-cafe single serve k-cup coffee maker, latte maker and cappuccino maker, dark charcoal', 'ASIN/ISBN': '', 'UNSPSC Code': '', 'Website': 'walmart .com', 'Condition': 'new', 'Seller': 'walmart', 'Item Total': '$169.24'}, {'Order Date': '9/6/2021', 'Order ID': '222-7972172-5213022', 'Group': 'kitchen', 'Item Category': 'airfryer', 'Description': 'ninja 4-quart air fryer, af100 $89.00', 'ASIN/ISBN': '', 'UNSPSC Code': '', 'Website': 'walmart .com', 'Condition': 'new', 'Seller': 'walmart', 'Item Total': '$89.00'}, {'Order Date': '9/3/2021', 'Order ID': '222-7972172-5213022', 'Group': 'kitchen', 'Item Category': 'microware', 'Description': 'hamilton beach 1.1 cu. ft. 1000w stainless steel microwave', 'ASIN/ISBN': '', 'UNSPSC Code': '', 'Website': 'walmart .com', 'Condition': 'new', 'Seller': 'walmart', 'Item Total': '$74.84'}]\n"
     ]
    }
   ],
   "source": [
    "#puts contents in to a list of dictionary\n",
    "print(task4(\"orders.csv\"))"
   ]
  },
  {
   "cell_type": "code",
   "execution_count": 6,
   "id": "2cc5f6f2",
   "metadata": {},
   "outputs": [],
   "source": [
    "#Takes in a file name in\n",
    "#Returns a list of unique groups\n",
    "def task5(filein):\n",
    "    \n",
    "    finalList = []\n",
    "    tempList = []\n",
    "    \n",
    "    with open(filein, \"r\") as file:\n",
    "        skip = True\n",
    "        \n",
    "        for x in file:\n",
    "            if skip:\n",
    "                skip = False\n",
    "                continue\n",
    "            \n",
    "            string = x.split(\",\")\n",
    "            tempList.append(string)\n",
    "            \n",
    "    for x in tempList:\n",
    "        if x[2] not in finalList:\n",
    "            finalList.append(x[2])\n",
    "            \n",
    "    return finalList"
   ]
  },
  {
   "cell_type": "code",
   "execution_count": 24,
   "id": "6c11776e",
   "metadata": {},
   "outputs": [
    {
     "name": "stdout",
     "output_type": "stream",
     "text": [
      "['Computer & Electronics', 'Bedroom', 'Kitchen', 'Living Room', 'Bathroom', 'Outside']\n"
     ]
    }
   ],
   "source": [
    "#prints the Unique Groups\n",
    "print(task5(\"orders.csv\"))"
   ]
  },
  {
   "cell_type": "code",
   "execution_count": 7,
   "id": "03321484",
   "metadata": {},
   "outputs": [],
   "source": [
    "#Takes a file in\n",
    "#Returns list of unique item categories\n",
    "def task6(filein):\n",
    "    \n",
    "    finalList = []\n",
    "    tempList = []\n",
    "    \n",
    "    with open(filein, \"r\") as file:\n",
    "        skip = True\n",
    "        \n",
    "        for x in file:\n",
    "            if skip:\n",
    "                skip = False\n",
    "                continue\n",
    "            \n",
    "            string = x.split(\",\")\n",
    "            tempList.append(string)\n",
    "            \n",
    "    for x in tempList:\n",
    "        if x[3] not in finalList:\n",
    "            finalList.append(x[3])\n",
    "            \n",
    "    return finalList"
   ]
  },
  {
   "cell_type": "code",
   "execution_count": 25,
   "id": "e8159fad",
   "metadata": {},
   "outputs": [
    {
     "name": "stdout",
     "output_type": "stream",
     "text": [
      "['MONITOR', 'ELECTRONIC_ADAPTER', 'PERSONAL_COMPUTER', 'CONSUMER_ELECTRONICS', 'AMAZON_TABLET', 'CAMCORDER', 'BED_FRAME', 'MATTRESS', 'CHAIR', 'TABLE', 'DRESSER', 'PRESSURE_COOKER', 'SOFA', 'SHELF', 'DESK', 'COUNTERTOP_GRIDDLE_APPLIANCE', 'HANGING_ROD', 'RUG', 'OTTOMAN', 'DISHWARE_PLACE_SETTING', 'CORD_MANAGEMENT_COVER', 'FLATWARE', 'OUTDOOR_LIVING', 'RUG_PAD', 'POWER_STRIP', 'LAMP', 'BED_LINEN_SET', 'BLANKET', 'TENT', 'VACUUM_CLEANER', 'MATTRESS_COVER', 'BENCH', 'Bathroom Storage', 'Medicine Cabenet', 'Coffee Maker', 'Airfryer', 'Microware']\n"
     ]
    }
   ],
   "source": [
    "#prints Unique Item Category\n",
    "print(task6(\"orders.csv\"))"
   ]
  },
  {
   "cell_type": "code",
   "execution_count": 26,
   "id": "f2fe6d38",
   "metadata": {},
   "outputs": [],
   "source": [
    "#Takes in a list of Tuples(parameter 1) and String(parameter 2)\n",
    "#Returns the number of items in a group\n",
    "def task7(orders, group):\n",
    "    group = group.lower()\n",
    "    count = 0\n",
    "    \n",
    "    for x in orders:\n",
    "        if group in x:\n",
    "            count+=1\n",
    "            \n",
    "    return count"
   ]
  },
  {
   "cell_type": "code",
   "execution_count": 27,
   "id": "50320978",
   "metadata": {},
   "outputs": [
    {
     "name": "stdout",
     "output_type": "stream",
     "text": [
      "11\n"
     ]
    }
   ],
   "source": [
    "#prints number of order that are in the \"Bedroom\" group\n",
    "print(task7(task3(\"orders.csv\"),'Bedroom'))"
   ]
  },
  {
   "cell_type": "code",
   "execution_count": 28,
   "id": "9b0b005c",
   "metadata": {},
   "outputs": [],
   "source": [
    "#Takes in a String(parameter 1) and list of Dictionaries(parameter2)\n",
    "#Returns the total cost in that group\n",
    "\n",
    "def task8(group, list_dicts):\n",
    "    group = group.lower()\n",
    "    total_cost = 0\n",
    "    \n",
    "    for i in range(len(list_dicts)):\n",
    "       \n",
    "        if group == list_dicts[i][\"Group\"]:\n",
    "            total_cost += float(list_dicts[i][\"Item Total\"][1:])\n",
    "            \n",
    "    return total_cost"
   ]
  },
  {
   "cell_type": "code",
   "execution_count": 29,
   "id": "8a8c7557",
   "metadata": {},
   "outputs": [
    {
     "name": "stdout",
     "output_type": "stream",
     "text": [
      "815.32\n"
     ]
    }
   ],
   "source": [
    "#prints total cost of everything in that group \n",
    "print( task8(\"Bedroom\",task4(\"orders.csv\"))) "
   ]
  },
  {
   "cell_type": "code",
   "execution_count": null,
   "id": "ba4e30ea",
   "metadata": {},
   "outputs": [],
   "source": []
  }
 ],
 "metadata": {
  "kernelspec": {
   "display_name": "Python 3",
   "language": "python",
   "name": "python3"
  },
  "language_info": {
   "codemirror_mode": {
    "name": "ipython",
    "version": 3
   },
   "file_extension": ".py",
   "mimetype": "text/x-python",
   "name": "python",
   "nbconvert_exporter": "python",
   "pygments_lexer": "ipython3",
   "version": "3.8.8"
  }
 },
 "nbformat": 4,
 "nbformat_minor": 5
}
